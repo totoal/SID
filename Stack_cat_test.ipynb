{
 "cells": [
  {
   "cell_type": "code",
   "execution_count": null,
   "metadata": {},
   "outputs": [],
   "source": [
    "import numpy as np\n",
    "import matplotlib.pyplot as plt\n",
    "from astropy.table import Table\n",
    "from my_utilities import *\n",
    "from load_jpas_catalogs import load_minijpas_jnep\n",
    "\n",
    "w_central = central_wavelength()"
   ]
  },
  {
   "cell_type": "code",
   "execution_count": null,
   "metadata": {},
   "outputs": [],
   "source": [
    "dirname = '/home/alberto/almacen/Stack_catalogs'\n",
    "cat_name = f'cat_Unique_ALL_FIELDS_Pband_gri.Table.fits'\n",
    "    \n",
    "cat = Table.read(f'{dirname}/{cat_name}')"
   ]
  },
  {
   "cell_type": "code",
   "execution_count": null,
   "metadata": {},
   "outputs": [],
   "source": [
    "pm_flx = cat['FLUX_APER_3_0'].T * 1e-19\n",
    "pm_flx_err = cat['FLUX_ERR_APER_3_0'].T * 1e-19\n",
    "pm_mag = cat['MAG_APER_3_0'].T\n",
    "pm_mag_err = cat['MAG_ERR_APER_3_0'].T\n",
    "\n",
    "cat.keys()"
   ]
  },
  {
   "cell_type": "code",
   "execution_count": null,
   "metadata": {},
   "outputs": [],
   "source": [
    "plt.hist(pm_mag[-2], np.linspace(14, 30, 100))\n",
    "plt.yscale('log')"
   ]
  },
  {
   "cell_type": "code",
   "execution_count": null,
   "metadata": {},
   "outputs": [],
   "source": [
    "pm_flx_mj, pm_err_mj = load_minijpas_jnep()[:2]"
   ]
  },
  {
   "cell_type": "code",
   "execution_count": null,
   "metadata": {},
   "outputs": [],
   "source": [
    "nb = -2\n",
    "fig, ax = plt.subplots(figsize=(5, 4))\n",
    "ax.plot(pm_flx[nb], pm_flx_err[nb], marker='.', ls='', markerfacecolor='none')\n",
    "ax.plot(pm_flx_mj[nb], pm_err_mj[nb], marker='.', ls='', markerfacecolor='none')\n",
    "ax.axvline(7e-19, color='red')\n",
    "ax.set_yscale('log')\n",
    "ax.set_xscale('log')\n",
    "ax.set_ylabel('FLX ERR')\n",
    "ax.set_xlabel('FLX')\n",
    "plt.show()\n",
    "\n",
    "fig, ax = plt.subplots(figsize=(5, 4))\n",
    "ax.plot(pm_flx[nb], pm_flx[nb] / pm_flx_err[nb], marker='.', ls='', markerfacecolor='none')\n",
    "ax.plot(pm_flx_mj[nb], pm_flx_mj[nb] / pm_err_mj[nb], marker='.', ls='', markerfacecolor='none')\n",
    "ax.axvline(7e-19, color='red')\n",
    "ax.set_yscale('log')\n",
    "ax.set_xscale('log')\n",
    "ax.set_ylabel('S/N')\n",
    "ax.set_xlabel('FLX')\n",
    "plt.show()"
   ]
  }
 ],
 "metadata": {
  "kernelspec": {
   "display_name": "Python 3.9.13 ('base')",
   "language": "python",
   "name": "python3"
  },
  "language_info": {
   "codemirror_mode": {
    "name": "ipython",
    "version": 3
   },
   "file_extension": ".py",
   "mimetype": "text/x-python",
   "name": "python",
   "nbconvert_exporter": "python",
   "pygments_lexer": "ipython3",
   "version": "3.9.13"
  },
  "orig_nbformat": 4,
  "vscode": {
   "interpreter": {
    "hash": "ade4bca3e0042e0da78fecdb82351169c0f2ccedb06a0d7cf7342df8f7e47af7"
   }
  }
 },
 "nbformat": 4,
 "nbformat_minor": 2
}
